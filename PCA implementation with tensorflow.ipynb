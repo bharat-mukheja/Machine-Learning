{
 "cells": [
  {
   "cell_type": "code",
   "execution_count": null,
   "metadata": {
    "collapsed": true
   },
   "outputs": [],
   "source": [
    "#Source: https://medium.com/towards-data-science/reducing-dimensionality-from-dimensionality-reduction-techniques-f658aec24dfe\n",
    "#self.X has the data and self.dtype = tf.float32"
   ]
  },
  {
   "cell_type": "code",
   "execution_count": 5,
   "metadata": {
    "collapsed": true
   },
   "outputs": [],
   "source": [
    "import tensorflow as tf\n",
    "import numpy as np\n",
    "\n",
    "class TF_PCA:\n",
    "    def __init__(self,data,target):\n",
    "        self.data = data\n",
    "        self.dtype = data.dtype\n",
    "        self.target = target\n",
    "        \n",
    "    def fit(self):\n",
    "        self.graph = tf.Graph()\n",
    "        with self.graph.as_default():\n",
    "            self.X = tf.placeholder(self.dtype,shape=self.data.shape)\n",
    "\n",
    "            #Perform SVD\n",
    "            singular_values, u, _ = tf.svd(self.X)\n",
    "\n",
    "            #Create sigma matrix\n",
    "            sigma = tf.diag(singular_values)\n",
    "\n",
    "        with tf.Session(graph=self.graph) as session:\n",
    "            self.u, self.singular_values,self.sigma = session.run([u,singular_values,sigma],feed_dict={self.X:self.data})\n",
    "\n",
    "    def reduce(self,n_dimensions=None,keep_info=None):\n",
    "        if keep_info:\n",
    "            #Normalized singular values\n",
    "            normalized_singular_values = self.singular_values/sum(self.singular_values)\n",
    "            #Create the aggregated ladder of kept information per dimension\n",
    "            ladder = np.cumsum(normalized_singular_values)\n",
    "\n",
    "            #Get the first index which is above the given information threshold\n",
    "            index = next(idx for idx,value in enumerate(ladder) if value>= keep_info)+1\n",
    "            n_dimensions = index\n",
    "\n",
    "        with self.graph.as_default():\n",
    "            #Cut out the relevant part from sigma\n",
    "            sigma = tf.slice(self.sigma,[0,0], [self.data.shape[1],n_dimensions])\n",
    "\n",
    "            #PCA\n",
    "            pca = tf.matmul(self.u,sigma)\n",
    "\n",
    "        with tf.Session(graph=self.graph) as session:\n",
    "            return session.run(pca,feed_dict={self.X:self.data})\n",
    "\n",
    "    "
   ]
  },
  {
   "cell_type": "code",
   "execution_count": 9,
   "metadata": {},
   "outputs": [],
   "source": [
    "#Trying this out on iris dataset\n",
    "\n",
    "from sklearn.datasets import load_iris as iris_dataset\n",
    "import matplotlib.pyplot as plt\n",
    "import seaborn as sns\n",
    "%matplotlib inline\n",
    "\n",
    "tf_pca = TF_PCA(iris_dataset().data,iris_dataset().target)\n",
    "tf_pca.fit()\n",
    "pca = tf_pca.reduce(keep_info=0.9) # Results in 2 dimensions\n"
   ]
  },
  {
   "cell_type": "code",
   "execution_count": 10,
   "metadata": {},
   "outputs": [
    {
     "data": {
      "text/plain": [
       "<matplotlib.collections.PathCollection at 0x7fcfc01b3be0>"
      ]
     },
     "execution_count": 10,
     "metadata": {},
     "output_type": "execute_result"
    },
    {
     "data": {
      "image/png": "[encoded data removed]",
      "text/plain": [
       "<matplotlib.figure.Figure at 0x7fcfc36658d0>"
      ]
     },
     "metadata": {},
     "output_type": "display_data"
    }
   ],
   "source": [
    "\n",
    "color_mapping = {0: sns.xkcd_rgb['bright purple'],1:sns.xkcd_rgb['lime'],2:sns.xkcd_rgb['ochre']}\n",
    "colors = list(map(lambda x: color_mapping[x],tf_pca.target))\n",
    "\n",
    "plt.scatter(pca[:, 0], pca[:, 1], c=colors)"
   ]
  }
 ],
 "metadata": {
  "kernelspec": {
   "display_name": "Python 3",
   "language": "python",
   "name": "python3"
  },
  "language_info": {
   "codemirror_mode": {
    "name": "ipython",
    "version": 3
   },
   "file_extension": ".py",
   "mimetype": "text/x-python",
   "name": "python",
   "nbconvert_exporter": "python",
   "pygments_lexer": "ipython3",
   "version": "3.6.1"
  }
 },
 "nbformat": 4,
 "nbformat_minor": 2
}
